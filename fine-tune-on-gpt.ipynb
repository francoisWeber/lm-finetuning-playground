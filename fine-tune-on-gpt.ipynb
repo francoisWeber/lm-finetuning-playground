{
 "cells": [
  {
   "cell_type": "code",
   "execution_count": 96,
   "id": "e5801c4e-702b-4a62-9506-658d297b8c0b",
   "metadata": {},
   "outputs": [],
   "source": [
    "import pandas as pd\n",
    "from itertools import chain\n",
    "import nltk\n",
    "import json\n",
    "from collections import defaultdict"
   ]
  },
  {
   "cell_type": "markdown",
   "id": "51c6e374-f97f-42bd-87ef-c54c6792d944",
   "metadata": {},
   "source": [
    "Prepar a dataset to fit into GPT's fine-tuning"
   ]
  },
  {
   "cell_type": "markdown",
   "id": "cdfc6059-6910-4ef6-95cb-acc71b4ba976",
   "metadata": {},
   "source": [
    "# Data"
   ]
  },
  {
   "cell_type": "markdown",
   "id": "300f20b3-ffc7-4af0-93b6-7154ad30e03a",
   "metadata": {},
   "source": [
    "## Raw Molière Q and A"
   ]
  },
  {
   "cell_type": "code",
   "execution_count": null,
   "id": "71688441-3751-4c52-a271-ed88c774fcf5",
   "metadata": {},
   "outputs": [],
   "source": [
    "df = pd.read_csv(\"/Users/frweber/tmp/dialogues_moliere.csv\")\n",
    "\n",
    "texts = list(chain(*[nltk.sent_tokenize(t.replace(u'\\xa0', u' ')) for t in df.text.to_list()]))\n",
    "\n",
    "texts_last_sentences = [nltk.sent_tokenize(text) for text in texts]\n",
    "\n",
    "ids = []\n",
    "questions = []\n",
    "answers = []\n",
    "for i, sentences in enumerate(texts_last_sentences):\n",
    "    the_question = [s for s in sentences if s.endswith(\"?\")]\n",
    "    if the_question:\n",
    "        questions.append(the_question[-1])\n",
    "        answers.append(\"\".join(texts_last_sentences[i+1]))\n",
    "        ids.append(i)\n",
    "\n",
    "qa_df = pd.DataFrame(data={\"question\": questions, \"answer\": answers})"
   ]
  },
  {
   "cell_type": "code",
   "execution_count": 99,
   "id": "5b099329-2e3c-4577-8336-a35af1915deb",
   "metadata": {},
   "outputs": [
    {
     "data": {
      "text/html": [
       "<div>\n",
       "<style scoped>\n",
       "    .dataframe tbody tr th:only-of-type {\n",
       "        vertical-align: middle;\n",
       "    }\n",
       "\n",
       "    .dataframe tbody tr th {\n",
       "        vertical-align: top;\n",
       "    }\n",
       "\n",
       "    .dataframe thead th {\n",
       "        text-align: right;\n",
       "    }\n",
       "</style>\n",
       "<table border=\"1\" class=\"dataframe\">\n",
       "  <thead>\n",
       "    <tr style=\"text-align: right;\">\n",
       "      <th></th>\n",
       "      <th>Unnamed: 0</th>\n",
       "      <th>speaker</th>\n",
       "      <th>text</th>\n",
       "    </tr>\n",
       "  </thead>\n",
       "  <tbody>\n",
       "    <tr>\n",
       "      <th>3999</th>\n",
       "      <td>3999</td>\n",
       "      <td>Argan</td>\n",
       "      <td>Je n'ai point encore vu la personne : mais on ...</td>\n",
       "    </tr>\n",
       "    <tr>\n",
       "      <th>4259</th>\n",
       "      <td>4259</td>\n",
       "      <td>Argan</td>\n",
       "      <td>Parle bas, te dis-je.</td>\n",
       "    </tr>\n",
       "    <tr>\n",
       "      <th>4544</th>\n",
       "      <td>4544</td>\n",
       "      <td>Argan</td>\n",
       "      <td>Oui.</td>\n",
       "    </tr>\n",
       "  </tbody>\n",
       "</table>\n",
       "</div>"
      ],
      "text/plain": [
       "      Unnamed: 0 speaker                                               text\n",
       "3999        3999   Argan  Je n'ai point encore vu la personne : mais on ...\n",
       "4259        4259   Argan                              Parle bas, te dis-je.\n",
       "4544        4544   Argan                                               Oui."
      ]
     },
     "execution_count": 99,
     "metadata": {},
     "output_type": "execute_result"
    }
   ],
   "source": [
    "df.sample(3)"
   ]
  },
  {
   "cell_type": "markdown",
   "id": "d58c84df-4d45-4d48-b41d-46de99401d39",
   "metadata": {},
   "source": [
    "## Classic version of questions"
   ]
  },
  {
   "cell_type": "code",
   "execution_count": 13,
   "id": "15ffba2c-8332-45f3-af68-6212603ae686",
   "metadata": {},
   "outputs": [],
   "source": [
    "import asyncio"
   ]
  },
  {
   "cell_type": "code",
   "execution_count": 14,
   "id": "1332ebe5-0cac-41a8-acda-e23489a1e291",
   "metadata": {},
   "outputs": [
    {
     "data": {
      "text/plain": [
       "<_UnixSelectorEventLoop running=True closed=False debug=False>"
      ]
     },
     "execution_count": 14,
     "metadata": {},
     "output_type": "execute_result"
    }
   ],
   "source": [
    "asyncio.get_event_loop()"
   ]
  },
  {
   "cell_type": "code",
   "execution_count": 73,
   "id": "568b286e-4683-4078-b9f5-f8581f843ee8",
   "metadata": {},
   "outputs": [],
   "source": [
    "import asyncio\n",
    "import aiohttp\n",
    "\n",
    "class RateLimitedHTTPClient:\n",
    "    def __init__(self, delay):\n",
    "        self.delay = delay\n",
    "        self.session = aiohttp.ClientSession()\n",
    "\n",
    "    async def request(self, method, url, **kwargs):\n",
    "        await asyncio.sleep(self.delay)\n",
    "        async with self.session.request(method, url, **kwargs) as response:\n",
    "            return response\n",
    "\n",
    "    async def close(self):\n",
    "        await self.session.close()"
   ]
  },
  {
   "cell_type": "code",
   "execution_count": 79,
   "id": "9ca76dcb-03c2-4e18-a72f-7832bdbc3b09",
   "metadata": {},
   "outputs": [],
   "source": [
    "import os\n",
    "import asyncio\n",
    "import openai\n",
    "\n",
    "class TextRewriter:\n",
    "    def __init__(self, prompt):\n",
    "        openai.api_key = os.environ[\"OPENAI_API_KEY\"]\n",
    "        self.prompt = prompt\n",
    "        self.client = openai.AsyncOpenAI()\n",
    "\n",
    "    async def rewrite_text(self, text, semaphore):\n",
    "        async with semaphore:\n",
    "            response = await self.client.chat.completions.create(\n",
    "                model=\"gpt-3.5-turbo\",\n",
    "                messages=[\n",
    "                    {\"role\": \"system\", \"content\": \"You are a helpful assistant.\"},\n",
    "                    {\"role\": \"user\", \"content\": self.prompt + \" \" + text},\n",
    "                ],\n",
    "                temperature=0.7,\n",
    "                n=1\n",
    "            )\n",
    "            try:\n",
    "                return response.choices[0].message.content\n",
    "            except:\n",
    "                return None\n",
    "\n",
    "    async def rewrite_texts(self, texts):\n",
    "        semaphore = asyncio.Semaphore(2)\n",
    "        tasks = [self.rewrite_text(text, semaphore) for text in texts]\n",
    "        rewritten_texts = await asyncio.gather(*tasks)\n",
    "        return rewritten_texts"
   ]
  },
  {
   "cell_type": "code",
   "execution_count": 80,
   "id": "c3277034-8a1f-4374-b0a1-48a6f878b9df",
   "metadata": {},
   "outputs": [],
   "source": [
    "rewriter = TextRewriter(\"Reformule cette question dans un français simple et classique. Essaye de ne pas dépasser les 15 mots:\")"
   ]
  },
  {
   "cell_type": "code",
   "execution_count": null,
   "id": "77bfd567-45ed-48a9-9d4b-8dfb90f92789",
   "metadata": {},
   "outputs": [],
   "source": [
    "questions_fr = await rewriter.rewrite_texts(qa_df.question.to_list()[:100])"
   ]
  },
  {
   "cell_type": "markdown",
   "id": "7726ccc3-65f9-4914-ba4c-9a89484ed99c",
   "metadata": {},
   "source": [
    "# Target output"
   ]
  },
  {
   "cell_type": "code",
   "execution_count": 83,
   "id": "2eabc05d-be6e-4c19-8fee-9d793a87c128",
   "metadata": {},
   "outputs": [
    {
     "data": {
      "text/plain": [
       "question    charmante Élise, vous devenez mélancolique, ap...\n",
       "answer                         Je vous vois soupirer, hélas !\n",
       "Name: 0, dtype: object"
      ]
     },
     "execution_count": 83,
     "metadata": {},
     "output_type": "execute_result"
    }
   ],
   "source": [
    "qa_df.iloc[0]"
   ]
  },
  {
   "cell_type": "code",
   "execution_count": 84,
   "id": "f6af91bb-1f1c-4056-9ee4-783d17651429",
   "metadata": {},
   "outputs": [],
   "source": [
    "def craft_ft_openai(entry: pd.Series):\n",
    "    system = {\"role\": \"system\", \"content\": \"JB is a poet chatbot who answers everything in French just like Molière.\"}\n",
    "    user = {\"role\": \"user\", \"content\": entry.question}\n",
    "    assistant = {\"role\": \"assistant\", \"content\": entry.answer}\n",
    "    return {\"messages\": [system, user, assistant]}"
   ]
  },
  {
   "cell_type": "code",
   "execution_count": 87,
   "id": "c2838eea-12f9-4274-9196-06b8dcb4eead",
   "metadata": {},
   "outputs": [],
   "source": [
    "qa_ft_dataset = qa_df.apply(craft_ft_openai, axis=1).to_list()"
   ]
  },
  {
   "cell_type": "code",
   "execution_count": 89,
   "id": "a721213d-8d52-4963-8875-b939ffcec8c6",
   "metadata": {},
   "outputs": [],
   "source": [
    "from sklearn.model_selection import train_test_split"
   ]
  },
  {
   "cell_type": "code",
   "execution_count": 90,
   "id": "596b6a46-73b7-4eba-b851-198ba31aa39d",
   "metadata": {},
   "outputs": [],
   "source": [
    "qa_ft_train, qa_ft_test = train_test_split(qa_ft_dataset)"
   ]
  },
  {
   "cell_type": "code",
   "execution_count": 93,
   "id": "1b716cad-8f50-4286-bb94-80e3aeb1fc98",
   "metadata": {},
   "outputs": [],
   "source": [
    "# write down\n",
    "with open(\"qa_moliere_train.jsonl\", \"w\") as f:\n",
    "    lines = \"\\n\".join([json.dumps(line) for line in qa_ft_train])\n",
    "    f.writelines(lines)\n",
    "# write down valid\n",
    "with open(\"qa_moliere_test.jsonl\", \"w\") as f:\n",
    "    lines = \"\\n\".join([json.dumps(line) for line in qa_ft_test])\n",
    "    f.writelines(lines)"
   ]
  },
  {
   "cell_type": "markdown",
   "id": "b76521dd-e881-4023-8b7d-ed4da860e283",
   "metadata": {},
   "source": [
    "## Check data"
   ]
  },
  {
   "cell_type": "code",
   "execution_count": 98,
   "id": "2157977a-18a0-492f-898e-7fb323a2a316",
   "metadata": {},
   "outputs": [
    {
     "name": "stdout",
     "output_type": "stream",
     "text": [
      "Num examples: 1811\n",
      "First example:\n",
      "{'role': 'system', 'content': 'JB is a poet chatbot who answers everything in French just like Molière.'}\n",
      "{'role': 'user', 'content': 'Quoi ?'}\n",
      "{'role': 'assistant', 'content': \"Ne vous ai-je pas recommandé de me venir dire d'abord tout ce que vous voyez ?\"}\n",
      "No errors found\n"
     ]
    }
   ],
   "source": [
    "data_path = \"./qa_moliere_train.jsonl\"\n",
    "with open(data_path, 'r', encoding='utf-8') as f:\n",
    "    dataset = [json.loads(line) for line in f]\n",
    "\n",
    "# Initial dataset stats\n",
    "print(\"Num examples:\", len(dataset))\n",
    "print(\"First example:\")\n",
    "for message in dataset[0][\"messages\"]:\n",
    "    print(message)\n",
    "\n",
    "# Format error checks\n",
    "format_errors = defaultdict(int)\n",
    "\n",
    "for ex in dataset:\n",
    "    if not isinstance(ex, dict):\n",
    "        format_errors[\"data_type\"] += 1\n",
    "        continue\n",
    "        \n",
    "    messages = ex.get(\"messages\", None)\n",
    "    if not messages:\n",
    "        format_errors[\"missing_messages_list\"] += 1\n",
    "        continue\n",
    "        \n",
    "    for message in messages:\n",
    "        if \"role\" not in message or \"content\" not in message:\n",
    "            format_errors[\"message_missing_key\"] += 1\n",
    "        \n",
    "        if any(k not in (\"role\", \"content\", \"name\", \"function_call\", \"weight\") for k in message):\n",
    "            format_errors[\"message_unrecognized_key\"] += 1\n",
    "        \n",
    "        if message.get(\"role\", None) not in (\"system\", \"user\", \"assistant\", \"function\"):\n",
    "            format_errors[\"unrecognized_role\"] += 1\n",
    "            \n",
    "        content = message.get(\"content\", None)\n",
    "        function_call = message.get(\"function_call\", None)\n",
    "        \n",
    "        if (not content and not function_call) or not isinstance(content, str):\n",
    "            format_errors[\"missing_content\"] += 1\n",
    "    \n",
    "    if not any(message.get(\"role\", None) == \"assistant\" for message in messages):\n",
    "        format_errors[\"example_missing_assistant_message\"] += 1\n",
    "\n",
    "if format_errors:\n",
    "    print(\"Found errors:\")\n",
    "    for k, v in format_errors.items():\n",
    "        print(f\"{k}: {v}\")\n",
    "else:\n",
    "    print(\"No errors found\")"
   ]
  },
  {
   "cell_type": "markdown",
   "id": "c00e2581-8ec8-46d2-950c-00444a114447",
   "metadata": {},
   "source": [
    "# Fine tune"
   ]
  },
  {
   "cell_type": "code",
   "execution_count": 101,
   "id": "a8dfd9c0-be1b-4c79-95f0-f7e84f5aba05",
   "metadata": {},
   "outputs": [],
   "source": [
    "from openai import OpenAI\n",
    "client = OpenAI()"
   ]
  },
  {
   "cell_type": "code",
   "execution_count": 106,
   "id": "96ffeeac-f063-4753-9cbe-c66e698dedc1",
   "metadata": {},
   "outputs": [
    {
     "data": {
      "text/plain": [
       "'Le soleil visiblement arrêté, et les autres planètes obéissant à sa loi, tournant en cercles égaux autour de lui, dans une ordonnance étonnante, et à différentes vitesses : dans cette confusion si belle, chaque globe a son essence, sa forme, sa surface, sa durée, sa distance, ses cieux, sa latitude, ses zones, et ses capes, ses mers, ses golfes, ses promontoires, aussi bien que notre terre, que la nature a si délicieusement variée.'"
      ]
     },
     "execution_count": 106,
     "metadata": {},
     "output_type": "execute_result"
    }
   ],
   "source": [
    "response = client.chat.completions.create(\n",
    "  model=\"ft:gpt-3.5-turbo-1106:soprema:moliere:972h7fGK\",\n",
    "  messages=[\n",
    "    {\"role\": \"system\", \"content\": \"You are a helpful assistant speaking French\"},\n",
    "    {\"role\": \"user\", \"content\": \"Comment décrirais-tu le système solaire ?\"},\n",
    "  ]\n",
    ")\n",
    "response.choices[0].message.content"
   ]
  },
  {
   "cell_type": "code",
   "execution_count": 107,
   "id": "cf34b414-9dca-41ef-a364-8dfe4f7fdb6c",
   "metadata": {},
   "outputs": [
    {
     "data": {
      "text/plain": [
       "\"Le système solaire est composé d'une étoile centrale, le Soleil, autour de laquelle gravitent huit planètes : Mercure, Vénus, la Terre, Mars, Jupiter, Saturne, Uranus, et Neptune. En plus des planètes, il contient des astéroïdes, des comètes, des satellites naturels, et d'autres corps célestes. Le système solaire est également caractérisé par une ceinture d'astéroïdes entre Mars et Jupiter, et par la région au-delà de Neptune appelée le nuage d'Oort, où résident les comètes.\""
      ]
     },
     "execution_count": 107,
     "metadata": {},
     "output_type": "execute_result"
    }
   ],
   "source": [
    "response = client.chat.completions.create(\n",
    "  model=\"gpt-3.5-turbo-1106\",\n",
    "  messages=[\n",
    "    {\"role\": \"system\", \"content\": \"You are a helpful assistant speaking French\"},\n",
    "    {\"role\": \"user\", \"content\": \"Comment décrirais-tu le système solaire ?\"},\n",
    "  ]\n",
    ")\n",
    "response.choices[0].message.content"
   ]
  },
  {
   "cell_type": "code",
   "execution_count": null,
   "id": "b225207f-7185-4b24-a4ee-8fa30995f2ef",
   "metadata": {},
   "outputs": [],
   "source": []
  }
 ],
 "metadata": {
  "kernelspec": {
   "display_name": "peft",
   "language": "python",
   "name": "peft"
  },
  "language_info": {
   "codemirror_mode": {
    "name": "ipython",
    "version": 3
   },
   "file_extension": ".py",
   "mimetype": "text/x-python",
   "name": "python",
   "nbconvert_exporter": "python",
   "pygments_lexer": "ipython3",
   "version": "3.11.7"
  }
 },
 "nbformat": 4,
 "nbformat_minor": 5
}
