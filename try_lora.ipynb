{
 "cells": [
  {
   "cell_type": "code",
   "execution_count": 1,
   "id": "66dfada6-83b2-40c9-9da5-ed17fdbd7133",
   "metadata": {},
   "outputs": [],
   "source": [
    "from lm_finetuning_playground.dataset import moliere\n",
    "from lm_finetuning_playground.dataset import personal\n",
    "from lm_finetuning_playground.dataset.tools import extract_question_and_answers"
   ]
  },
  {
   "cell_type": "code",
   "execution_count": 2,
   "id": "c82d0a8e-d8c9-4c92-a2ee-a22ed65edec2",
   "metadata": {},
   "outputs": [
    {
     "name": "stderr",
     "output_type": "stream",
     "text": [
      "/Users/frweber/Library/Caches/pypoetry/virtualenvs/lm-finetuning-playground-bXrk8-Bo-py3.11/lib/python3.11/site-packages/tqdm/auto.py:21: TqdmWarning: IProgress not found. Please update jupyter and ipywidgets. See https://ipywidgets.readthedocs.io/en/stable/user_install.html\n",
      "  from .autonotebook import tqdm as notebook_tqdm\n",
      "/Users/frweber/Library/Caches/pypoetry/virtualenvs/lm-finetuning-playground-bXrk8-Bo-py3.11/lib/python3.11/site-packages/bitsandbytes/cextension.py:34: UserWarning: The installed version of bitsandbytes was compiled without GPU support. 8-bit optimizers, 8-bit multiplication, and GPU quantization are unavailable.\n",
      "  warn(\"The installed version of bitsandbytes was compiled without GPU support. \"\n"
     ]
    },
    {
     "name": "stdout",
     "output_type": "stream",
     "text": [
      "'NoneType' object has no attribute 'cadam32bit_grad_fp32'\n"
     ]
    }
   ],
   "source": [
    "from peft import LoraConfig, TaskType, PeftModel\n",
    "from peft import get_peft_model\n",
    "\n",
    "from transformers import Trainer, TrainingArguments, DataCollatorWithPadding\n",
    "from transformers import AutoModelForSeq2SeqLM, AutoModelForCausalLM\n",
    "\n",
    "from datasets import Dataset"
   ]
  },
  {
   "cell_type": "code",
   "execution_count": 3,
   "id": "c2d7fecf-a983-4bec-9f8b-269244051e48",
   "metadata": {},
   "outputs": [],
   "source": [
    "from typing import List\n",
    "import pandas as pd"
   ]
  },
  {
   "cell_type": "code",
   "execution_count": 4,
   "id": "878fd99e-0e2c-42a8-9dd0-3c4a67ac7edb",
   "metadata": {},
   "outputs": [
    {
     "data": {
      "text/plain": [
       "'mps'"
      ]
     },
     "execution_count": 4,
     "metadata": {},
     "output_type": "execute_result"
    }
   ],
   "source": [
    "import torch\n",
    "if torch.backends.mps.is_available():\n",
    "    device = \"mps\"\n",
    "else:\n",
    "    device = \"cpu\"\n",
    "device"
   ]
  },
  {
   "cell_type": "markdown",
   "id": "024de301-155b-4a4e-8b8e-61b9ba9ce12d",
   "metadata": {},
   "source": [
    "# Pick a model"
   ]
  },
  {
   "cell_type": "code",
   "execution_count": 5,
   "id": "d09782a2-85c3-4809-b254-7313fea0913e",
   "metadata": {},
   "outputs": [],
   "source": [
    "MODEL_ID = \"google/flan-t5-base\""
   ]
  },
  {
   "cell_type": "code",
   "execution_count": 6,
   "id": "268ec7e0-5b47-45ee-8b7b-e7195fa2cb16",
   "metadata": {},
   "outputs": [],
   "source": [
    "from transformers import AutoTokenizer\n",
    "\n",
    "tokenizer = AutoTokenizer.from_pretrained(MODEL_ID)"
   ]
  },
  {
   "cell_type": "markdown",
   "id": "543dad3a-7c80-4f9e-917f-ee827004b86e",
   "metadata": {},
   "source": [
    "# Load data\n",
    "Just finding some dummy datasets to try PEFT"
   ]
  },
  {
   "cell_type": "code",
   "execution_count": 7,
   "id": "673f0a01-94c6-475f-8ff6-a194197eba4a",
   "metadata": {},
   "outputs": [],
   "source": [
    "# get raw datasets as sentences\n",
    "texts_moliere = moliere.get_moliere_sentences() # pure Molière to train an CausalLLM talking like Molière's characters\n",
    "texts_perso = personal.load_personal_sentences() # to specialize an LLM making the difference between Molière talks vs my talks"
   ]
  },
  {
   "cell_type": "code",
   "execution_count": 8,
   "id": "b9234c18-c0bc-4e81-9dce-b4b803f9ff72",
   "metadata": {},
   "outputs": [],
   "source": [
    "# Prepare the question answering dataset\n",
    "questions, answers, ids = extract_question_and_answers(texts_moliere)"
   ]
  },
  {
   "cell_type": "markdown",
   "id": "8b675552-12b5-492c-b1a7-e04a707177a2",
   "metadata": {},
   "source": [
    "### Prepare datasets"
   ]
  },
  {
   "cell_type": "code",
   "execution_count": 9,
   "id": "01eaaaad-aa89-4900-85a9-dcadfdb8ea59",
   "metadata": {},
   "outputs": [],
   "source": [
    "clf_df = pd.DataFrame(data={\"text\": texts_moliere + texts_perso, \"label\": [1] * len(texts_moliere + [0] * len(texts_perso))})\n",
    "qna_df = pd.DataFrame(data={\"question\": questions, \"answer\": answers})"
   ]
  },
  {
   "cell_type": "code",
   "execution_count": 10,
   "id": "d68fb5d7-2c3b-4c85-944c-64dd8308eb44",
   "metadata": {},
   "outputs": [],
   "source": [
    "clf_ds = Dataset.from_pandas(clf_df)\n",
    "qna_ds = Dataset.from_pandas(qna_df)"
   ]
  },
  {
   "cell_type": "code",
   "execution_count": 11,
   "id": "a4e38ea0-baed-4919-8f87-811004853c84",
   "metadata": {},
   "outputs": [],
   "source": [
    "id2label = {0: \"MOLIERE\", 1: \"OTHER\"}\n",
    "label2id = {\"MOLIERE\": 0, \"OTHER\": 1}"
   ]
  },
  {
   "cell_type": "code",
   "execution_count": 12,
   "id": "4c605003-4c37-4543-bc84-3fe69032c4cb",
   "metadata": {},
   "outputs": [
    {
     "data": {
      "text/plain": [
       "{'question': 'charmante Élise, vous devenez mélancolique, après les obligeantes assurances que vous avez eu la bonté de me donner de votre foi ?',\n",
       " 'answer': 'Je vous vois soupirer, hélas !'}"
      ]
     },
     "execution_count": 12,
     "metadata": {},
     "output_type": "execute_result"
    }
   ],
   "source": [
    "qna_ds[0]"
   ]
  },
  {
   "cell_type": "code",
   "execution_count": 13,
   "id": "c214c090-b78e-4763-b5f2-565d356fb326",
   "metadata": {},
   "outputs": [
    {
     "name": "stderr",
     "output_type": "stream",
     "text": [
      "Map: 100%|█████████████████████████████████████████████████████████████████████████████████| 2415/2415 [00:00<00:00, 112565.92 examples/s]\n"
     ]
    },
    {
     "name": "stdout",
     "output_type": "stream",
     "text": [
      "Max source length: 167\n"
     ]
    },
    {
     "name": "stderr",
     "output_type": "stream",
     "text": [
      "Map: 100%|█████████████████████████████████████████████████████████████████████████████████| 2415/2415 [00:00<00:00, 120256.96 examples/s]"
     ]
    },
    {
     "name": "stdout",
     "output_type": "stream",
     "text": [
      "Max target length: 297\n"
     ]
    },
    {
     "name": "stderr",
     "output_type": "stream",
     "text": [
      "\n"
     ]
    }
   ],
   "source": [
    "from datasets import concatenate_datasets\n",
    "import numpy as np\n",
    "# The maximum total input sequence length after tokenization.\n",
    "# Sequences longer than this will be truncated, sequences shorter will be padded.\n",
    "#tokenized_inputs = concatenate_datasets([dataset[\"train\"], dataset[\"test\"]]).map(lambda x: tokenizer(x[\"dialogue\"], truncation=True), batched=True, remove_columns=[\"dialogue\", \"summary\"])\n",
    "tokenized_inputs = qna_ds.map(lambda x: tokenizer(x[\"question\"], truncation=True), batched=True, remove_columns=[\"answer\"])\n",
    "input_lenghts = [len(x) for x in tokenized_inputs[\"input_ids\"]]\n",
    "# take 85 percentile of max length for better utilization\n",
    "max_source_length = max(input_lenghts)\n",
    "print(f\"Max source length: {max_source_length}\")\n",
    "\n",
    "# The maximum total sequence length for target text after tokenization.\n",
    "# Sequences longer than this will be truncated, sequences shorter will be padded.\"\n",
    "# tokenized_targets = concatenate_datasets([dataset[\"train\"], dataset[\"test\"]]).map(lambda x: tokenizer(x[\"summary\"], truncation=True), batched=True, remove_columns=[\"dialogue\", \"summary\"])\n",
    "tokenized_targets = qna_ds.map(lambda x: tokenizer(x[\"answer\"], truncation=True), batched=True, remove_columns=[\"answer\"])\n",
    "target_lenghts = [len(x) for x in tokenized_targets[\"input_ids\"]]\n",
    "# take 90 percentile of max length for better utilization\n",
    "max_target_length = max(target_lenghts)\n",
    "print(f\"Max target length: {max_target_length}\")"
   ]
  },
  {
   "cell_type": "code",
   "execution_count": 14,
   "id": "4da90d2a-fa01-408b-8881-8720ce856b2f",
   "metadata": {},
   "outputs": [],
   "source": [
    "def preprocess_function(sample, padding=\"max_length\"):\n",
    "    # add prefix to the input for t5\n",
    "    prefix = \"\" ; \"answer: \"\n",
    "    inputs = [prefix + item for item in sample[\"question\"]]\n",
    "\n",
    "    # tokenize inputs\n",
    "    model_inputs = tokenizer(inputs, max_length=max_source_length, padding=padding, truncation=True)\n",
    "\n",
    "    # Tokenize targets with the `text_target` keyword argument\n",
    "    labels = tokenizer(text_target=sample[\"answer\"], max_length=max_target_length, padding=padding, truncation=True)\n",
    "\n",
    "    # If we are padding here, replace all tokenizer.pad_token_id in the labels by -100 when we want to ignore\n",
    "    # padding in the loss.\n",
    "    if padding == \"max_length\":\n",
    "        labels[\"input_ids\"] = [\n",
    "            [(l if l != tokenizer.pad_token_id else -100) for l in label] for label in labels[\"input_ids\"]\n",
    "        ]\n",
    "\n",
    "    model_inputs[\"labels\"] = labels[\"input_ids\"]\n",
    "    return model_inputs"
   ]
  },
  {
   "cell_type": "code",
   "execution_count": 15,
   "id": "535c8bdc-75c2-4743-88a4-8a60a2654736",
   "metadata": {},
   "outputs": [
    {
     "name": "stderr",
     "output_type": "stream",
     "text": [
      "Map: 100%|███████████████████████████████████████████████████████████████████████████████████| 2415/2415 [00:00<00:00, 7212.49 examples/s]\n"
     ]
    }
   ],
   "source": [
    "qna_ds = qna_ds.map(preprocess_function, batched=True, remove_columns=[\"question\", \"answer\"])"
   ]
  },
  {
   "cell_type": "code",
   "execution_count": 16,
   "id": "6bcc8d67-b9cc-4ec6-9d29-320f4808e667",
   "metadata": {},
   "outputs": [],
   "source": [
    "tokenized_dataset = qna_ds.train_test_split(train_size=0.8)"
   ]
  },
  {
   "cell_type": "markdown",
   "id": "70ad8333-1e7e-475f-a865-5e6102e596f7",
   "metadata": {},
   "source": [
    "# Try PEFT"
   ]
  },
  {
   "cell_type": "code",
   "execution_count": 17,
   "id": "5d7d2dac-3ded-4c86-9091-a4c9fddada5e",
   "metadata": {},
   "outputs": [],
   "source": [
    "model = AutoModelForSeq2SeqLM.from_pretrained(\n",
    "    MODEL_ID\n",
    ").to(device)"
   ]
  },
  {
   "cell_type": "markdown",
   "id": "c5d2f7e0-447a-4409-af5c-28098b735e9d",
   "metadata": {},
   "source": [
    "## LoRA"
   ]
  },
  {
   "cell_type": "code",
   "execution_count": 18,
   "id": "b9cd95cd-876f-4a09-b3e3-fc088ade883a",
   "metadata": {},
   "outputs": [],
   "source": [
    "peft_config = LoraConfig(task_type=TaskType.SEQ_2_SEQ_LM, inference_mode=False, r=4, lora_alpha=32, lora_dropout=0.1)"
   ]
  },
  {
   "cell_type": "code",
   "execution_count": 19,
   "id": "c6e1795a-d2da-4c9b-a767-064fdc3b0d00",
   "metadata": {},
   "outputs": [
    {
     "name": "stdout",
     "output_type": "stream",
     "text": [
      "trainable params: 442,368 || all params: 248,020,224 || trainable%: 0.17835964860672007\n"
     ]
    }
   ],
   "source": [
    "model_ft = get_peft_model(model, peft_config, adapter_name=\"moliere\")\n",
    "model_ft.print_trainable_parameters()"
   ]
  },
  {
   "cell_type": "code",
   "execution_count": 20,
   "id": "ed8ccab3-f71a-48a8-9d7e-682ff081203c",
   "metadata": {},
   "outputs": [],
   "source": [
    "training_args = TrainingArguments(\n",
    "    output_dir=f\"./{MODEL_ID.split('/')[1]}/lora-4\",\n",
    "    learning_rate=1e-4,\n",
    "    per_device_train_batch_size=2,\n",
    "    per_device_eval_batch_size=2,\n",
    "    num_train_epochs=2,\n",
    "    weight_decay=0.01,\n",
    "    evaluation_strategy=\"epoch\",\n",
    "    save_strategy=\"epoch\",\n",
    "    load_best_model_at_end=True,\n",
    ")"
   ]
  },
  {
   "cell_type": "code",
   "execution_count": 21,
   "id": "8a30fc80-10d2-43f2-9b92-1050220484cc",
   "metadata": {},
   "outputs": [],
   "source": [
    "from transformers import DataCollatorForSeq2Seq\n",
    "\n",
    "# we want to ignore tokenizer pad token in the loss\n",
    "label_pad_token_id = -100\n",
    "# Data collator\n",
    "data_collator = DataCollatorForSeq2Seq(\n",
    "    tokenizer,\n",
    "    model=model,\n",
    "    label_pad_token_id=label_pad_token_id,\n",
    "    pad_to_multiple_of=8\n",
    ")\n"
   ]
  },
  {
   "cell_type": "code",
   "execution_count": 22,
   "id": "c365c706-902c-4a0b-a4a8-947916900879",
   "metadata": {},
   "outputs": [
    {
     "name": "stderr",
     "output_type": "stream",
     "text": [
      "/Users/frweber/Library/Caches/pypoetry/virtualenvs/lm-finetuning-playground-bXrk8-Bo-py3.11/lib/python3.11/site-packages/accelerate/accelerator.py:432: FutureWarning: Passing the following arguments to `Accelerator` is deprecated and will be removed in version 1.0 of Accelerate: dict_keys(['dispatch_batches', 'split_batches', 'even_batches', 'use_seedable_sampler']). Please pass an `accelerate.DataLoaderConfiguration` instead: \n",
      "dataloader_config = DataLoaderConfiguration(dispatch_batches=None, split_batches=False, even_batches=True, use_seedable_sampler=True)\n",
      "  warnings.warn(\n"
     ]
    }
   ],
   "source": [
    "trainer = Trainer(\n",
    "    model=model_ft,\n",
    "    args=training_args,\n",
    "    train_dataset=tokenized_dataset[\"train\"],\n",
    "    eval_dataset=tokenized_dataset[\"test\"],\n",
    "    tokenizer=tokenizer,\n",
    "    data_collator=data_collator,\n",
    ")"
   ]
  },
  {
   "cell_type": "code",
   "execution_count": 23,
   "id": "ab25bd8c-4a58-4337-a489-95511f6c1b34",
   "metadata": {},
   "outputs": [
    {
     "data": {
      "text/html": [
       "\n",
       "    <div>\n",
       "      \n",
       "      <progress value='1932' max='1932' style='width:300px; height:20px; vertical-align: middle;'></progress>\n",
       "      [1932/1932 11:35, Epoch 2/2]\n",
       "    </div>\n",
       "    <table border=\"1\" class=\"dataframe\">\n",
       "  <thead>\n",
       " <tr style=\"text-align: left;\">\n",
       "      <th>Epoch</th>\n",
       "      <th>Training Loss</th>\n",
       "      <th>Validation Loss</th>\n",
       "    </tr>\n",
       "  </thead>\n",
       "  <tbody>\n",
       "    <tr>\n",
       "      <td>1</td>\n",
       "      <td>3.868600</td>\n",
       "      <td>3.125710</td>\n",
       "    </tr>\n",
       "    <tr>\n",
       "      <td>2</td>\n",
       "      <td>3.490000</td>\n",
       "      <td>3.091448</td>\n",
       "    </tr>\n",
       "  </tbody>\n",
       "</table><p>"
      ],
      "text/plain": [
       "<IPython.core.display.HTML object>"
      ]
     },
     "metadata": {},
     "output_type": "display_data"
    },
    {
     "name": "stderr",
     "output_type": "stream",
     "text": [
      "Could not locate the best model at ./flan-t5-base/lora-4/checkpoint-1932/pytorch_model.bin, if you are running a distributed training on multiple nodes, you should activate `--save_on_each_node`.\n"
     ]
    },
    {
     "data": {
      "text/plain": [
       "TrainOutput(global_step=1932, training_loss=3.6073533842035457, metrics={'train_runtime': 696.6427, 'train_samples_per_second': 5.547, 'train_steps_per_second': 2.773, 'total_flos': 869909712666624.0, 'train_loss': 3.6073533842035457, 'epoch': 2.0})"
      ]
     },
     "execution_count": 23,
     "metadata": {},
     "output_type": "execute_result"
    }
   ],
   "source": [
    "trainer.train()"
   ]
  },
  {
   "cell_type": "markdown",
   "id": "07771aff-92ec-4a05-a354-b84894a5220b",
   "metadata": {},
   "source": [
    "# Eval"
   ]
  },
  {
   "cell_type": "code",
   "execution_count": 24,
   "id": "51e94ac6-3035-4b0c-9b5b-734673008c4e",
   "metadata": {},
   "outputs": [],
   "source": [
    "def give_answer(model, questions: List[str]):\n",
    "    input_ids = tokenizer(questions, return_tensors=\"pt\", truncation=True).input_ids.to(device)\n",
    "    outputs = model.generate(input_ids=input_ids, max_new_tokens=10, do_sample=True, top_p=0.9)\n",
    "    answers = tokenizer.batch_decode(outputs.detach().cpu().numpy(), skip_special_tokens=True)\n",
    "    for question, answer in zip(questions, answers):\n",
    "        print(question, \"-->\", answer)"
   ]
  },
  {
   "cell_type": "code",
   "execution_count": 148,
   "id": "4d4a498b-0ddb-46f6-8c40-aa8c2f454262",
   "metadata": {},
   "outputs": [
    {
     "name": "stdout",
     "output_type": "stream",
     "text": [
      "Répond en une phrase: à quoi penses-tu ? --> Monsieur!\n"
     ]
    }
   ],
   "source": [
    "questions = [\n",
    "    \"Répond en une phrase: à quoi penses-tu ?\",\n",
    "]\n",
    "give_answer(model_ft, questions)"
   ]
  },
  {
   "cell_type": "code",
   "execution_count": null,
   "id": "9de0999f-288b-4d8f-9ddb-661972e3b1f1",
   "metadata": {},
   "outputs": [],
   "source": []
  },
  {
   "cell_type": "code",
   "execution_count": null,
   "id": "503b5ab7-b1ad-4a4b-b5b8-6db145f16a19",
   "metadata": {},
   "outputs": [],
   "source": []
  },
  {
   "cell_type": "code",
   "execution_count": null,
   "id": "350af571-fba1-4d69-b066-dd6b34903727",
   "metadata": {},
   "outputs": [],
   "source": []
  }
 ],
 "metadata": {
  "kernelspec": {
   "display_name": "peft",
   "language": "python",
   "name": "peft"
  },
  "language_info": {
   "codemirror_mode": {
    "name": "ipython",
    "version": 3
   },
   "file_extension": ".py",
   "mimetype": "text/x-python",
   "name": "python",
   "nbconvert_exporter": "python",
   "pygments_lexer": "ipython3",
   "version": "3.11.7"
  }
 },
 "nbformat": 4,
 "nbformat_minor": 5
}
